{
 "cells": [
  {
   "cell_type": "code",
   "execution_count": 5,
   "metadata": {},
   "outputs": [],
   "source": [
    "import argparse\n",
    "import os\n",
    "from collections import defaultdict\n",
    "import json\n",
    "import numpy as np\n",
    "import matplotlib.pyplot as plt\n",
    "import scipy.ndimage\n",
    "from matplotlib.lines import Line2D\n",
    "import time"
   ]
  },
  {
   "cell_type": "code",
   "execution_count": null,
   "metadata": {},
   "outputs": [],
   "source": [
    "dumps_path = ''"
   ]
  },
  {
   "cell_type": "code",
   "execution_count": 6,
   "metadata": {},
   "outputs": [],
   "source": [
    "def moving_average(x, w):\n",
    "    w = np.ones((w,)) / w\n",
    "    return scipy.ndimage.convolve1d(x, w)"
   ]
  },
  {
   "cell_type": "code",
   "execution_count": null,
   "metadata": {},
   "outputs": [],
   "source": [
    "dumps_loaded = []\n",
    "unique_num_nodes = set()\n",
    "unique_noise_lambda = set()\n",
    "for dumps_path in dumps_paths:\n",
    "    dumps = os.listdir(dumps_path)\n",
    "\n",
    "    for dump in dumps:\n",
    "        if dump == \"source_folder\":\n",
    "            continue\n",
    "        completed_read = False\n",
    "        while not completed_read:\n",
    "            try:\n",
    "                dump = json.load(open(os.path.join(dumps_path, dump)))\n",
    "                completed_read = True\n",
    "            except json.decoder.JSONDecodeError as ex:\n",
    "                print(\"Let's try again\")\n",
    "                time.sleep(5)\n",
    "\n",
    "        dumps_loaded.append(dump)"
   ]
  }
 ],
 "metadata": {
  "kernelspec": {
   "display_name": "Python 3",
   "language": "python",
   "name": "python3"
  },
  "language_info": {
   "codemirror_mode": {
    "name": "ipython",
    "version": 3
   },
   "file_extension": ".py",
   "mimetype": "text/x-python",
   "name": "python",
   "nbconvert_exporter": "python",
   "pygments_lexer": "ipython3",
   "version": "3.8.8"
  },
  "vscode": {
   "interpreter": {
    "hash": "b0fa6594d8f4cbf19f97940f81e996739fb7646882a419484c72d19e05852a7e"
   }
  }
 },
 "nbformat": 4,
 "nbformat_minor": 2
}
